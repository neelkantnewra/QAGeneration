{
  "nbformat": 4,
  "nbformat_minor": 0,
  "metadata": {
    "colab": {
      "name": "Question Answer Generation final.ipynb",
      "provenance": [],
      "collapsed_sections": [],
      "include_colab_link": true
    },
    "kernelspec": {
      "name": "python3",
      "display_name": "Python 3"
    },
    "language_info": {
      "name": "python"
    }
  },
  "cells": [
    {
      "cell_type": "markdown",
      "metadata": {
        "id": "view-in-github",
        "colab_type": "text"
      },
      "source": [
        "<a href=\"https://colab.research.google.com/github/neelkantnewra/QAGeneration/blob/main/Question_Answer_Generation_final.ipynb\" target=\"_parent\"><img src=\"https://colab.research.google.com/assets/colab-badge.svg\" alt=\"Open In Colab\"/></a>"
      ]
    },
    {
      "cell_type": "code",
      "metadata": {
        "id": "qopIZrPzFFba",
        "colab": {
          "base_uri": "https://localhost:8080/"
        },
        "outputId": "07435223-7219-4a8a-f4a7-2cf9defcb6ec"
      },
      "source": [
        "# The follwoing code is made in such a way that for any given pdf,\n",
        "# Code Reference :- https://github.com/patil-suraj/question_generation\n",
        "# Github reference :- Suraj-Patel Github(https://github.com/patil-suraj/question_generation)\n",
        "# We can genarate random questions and answers corresponding to the pdf\n",
        "# Here, pdf_file is a PYPDF2 instance that collects the pdf from a given pdf_file\n",
        "# file = PyPDF2.PdfFileReader(\"/content/SQL.pdf\")\n",
        "\n",
        "\n",
        "\n",
        "# Liabraries :- \n",
        "!pip install PyPDF2\n",
        "!pip install -U transformers==3.0.0\n",
        "!python -m nltk.downloader punkt\n",
        "!git clone https://github.com/patil-suraj/question_generation.git\n",
        "import PyPDF2\n",
        "import pandas as pd\n",
        "import numpy as np\n",
        "import matplotlib.pyplot as plt\n",
        "%matplotlib inline\n",
        "import warnings\n",
        "warnings.filterwarnings(\"ignore\")\n",
        "from datetime import datetime\n",
        "import nltk\n",
        "from google.colab import files\n",
        "import json\n",
        "\n",
        "\n",
        "\n",
        "def question_answer(pdf_file,name):\n",
        "  # Here we are simply loading the pdf file\n",
        "  # Here name is a string data-type that should be same as the code-name itself\n",
        "  data = PyPDF2.PdfFileReader(pdf_file)\n",
        "  #print(file.documentInfo)\n",
        "  # Have made a pagenumbers var. such that it collects the page_numbers from the PDF\n",
        "  pagenumbers = data.getNumPages()\n",
        "  # Creatng a content list where we will store the entire content\n",
        "  content = []\n",
        "  for i in range(0,pagenumbers):\n",
        "    # storing the page\n",
        "    content.append(data.getPage(i).extractText())\n",
        "    # This pipelines module is a custom made pipelines module that we are extinsively using for this code\n",
        "    # Code Reference :- https://github.com/patil-suraj/question_generation/blob/master/pipelines.py\n",
        "\n",
        "  %cd question_generation\n",
        "  from pipelines import pipeline\n",
        "  \n",
        "  nlp = pipeline(name)\n",
        "\n",
        "  superfinal = []\n",
        "\n",
        "  for x in range (0,len(content)):\n",
        "    c = content[x].splitlines()\n",
        "\n",
        "    new_c = []\n",
        "\n",
        "    for text in c:\n",
        "      new_c.append(text.strip())\n",
        "\n",
        "    while \"\" in new_c:\n",
        "      new_c.remove(\"\")\n",
        "\n",
        "    v = \" \".join(new_c)\n",
        "    v = v.split(\".\")\n",
        "\n",
        "    ans = []\n",
        "    for text in v:\n",
        "      try:\n",
        "        ans.append(nlp(text))\n",
        "      except (ValueError,AssertionError):\n",
        "        pass\n",
        "\n",
        "    finalans = []\n",
        "    for i in range(len(ans)):\n",
        "      l = ans[i]\n",
        "      finalans.append([dict(t) for t in {tuple(d.items()) for d in l}])\n",
        "    superfinal.append(finalans)\n",
        "\n",
        "  flat = [item for sublist in superfinal for item in sublist]\n",
        "  flat_list = [item for sublist in flat for item in sublist] # open List of List\n",
        "  \n",
        "  return flat_list"
      ],
      "execution_count": null,
      "outputs": [
        {
          "output_type": "stream",
          "text": [
            "Requirement already satisfied: PyPDF2 in /usr/local/lib/python3.7/dist-packages (1.26.0)\n",
            "Requirement already up-to-date: transformers==3.0.0 in /usr/local/lib/python3.7/dist-packages (3.0.0)\n",
            "Requirement already satisfied, skipping upgrade: requests in /usr/local/lib/python3.7/dist-packages (from transformers==3.0.0) (2.23.0)\n",
            "Requirement already satisfied, skipping upgrade: numpy in /usr/local/lib/python3.7/dist-packages (from transformers==3.0.0) (1.19.5)\n",
            "Requirement already satisfied, skipping upgrade: filelock in /usr/local/lib/python3.7/dist-packages (from transformers==3.0.0) (3.0.12)\n",
            "Requirement already satisfied, skipping upgrade: sentencepiece in /usr/local/lib/python3.7/dist-packages (from transformers==3.0.0) (0.1.95)\n",
            "Requirement already satisfied, skipping upgrade: tokenizers==0.8.0-rc4 in /usr/local/lib/python3.7/dist-packages (from transformers==3.0.0) (0.8.0rc4)\n",
            "Requirement already satisfied, skipping upgrade: sacremoses in /usr/local/lib/python3.7/dist-packages (from transformers==3.0.0) (0.0.45)\n",
            "Requirement already satisfied, skipping upgrade: tqdm>=4.27 in /usr/local/lib/python3.7/dist-packages (from transformers==3.0.0) (4.41.1)\n",
            "Requirement already satisfied, skipping upgrade: packaging in /usr/local/lib/python3.7/dist-packages (from transformers==3.0.0) (20.9)\n",
            "Requirement already satisfied, skipping upgrade: regex!=2019.12.17 in /usr/local/lib/python3.7/dist-packages (from transformers==3.0.0) (2019.12.20)\n",
            "Requirement already satisfied, skipping upgrade: chardet<4,>=3.0.2 in /usr/local/lib/python3.7/dist-packages (from requests->transformers==3.0.0) (3.0.4)\n",
            "Requirement already satisfied, skipping upgrade: urllib3!=1.25.0,!=1.25.1,<1.26,>=1.21.1 in /usr/local/lib/python3.7/dist-packages (from requests->transformers==3.0.0) (1.24.3)\n",
            "Requirement already satisfied, skipping upgrade: certifi>=2017.4.17 in /usr/local/lib/python3.7/dist-packages (from requests->transformers==3.0.0) (2020.12.5)\n",
            "Requirement already satisfied, skipping upgrade: idna<3,>=2.5 in /usr/local/lib/python3.7/dist-packages (from requests->transformers==3.0.0) (2.10)\n",
            "Requirement already satisfied, skipping upgrade: joblib in /usr/local/lib/python3.7/dist-packages (from sacremoses->transformers==3.0.0) (1.0.1)\n",
            "Requirement already satisfied, skipping upgrade: six in /usr/local/lib/python3.7/dist-packages (from sacremoses->transformers==3.0.0) (1.15.0)\n",
            "Requirement already satisfied, skipping upgrade: click in /usr/local/lib/python3.7/dist-packages (from sacremoses->transformers==3.0.0) (7.1.2)\n",
            "Requirement already satisfied, skipping upgrade: pyparsing>=2.0.2 in /usr/local/lib/python3.7/dist-packages (from packaging->transformers==3.0.0) (2.4.7)\n",
            "/usr/lib/python3.7/runpy.py:125: RuntimeWarning: 'nltk.downloader' found in sys.modules after import of package 'nltk', but prior to execution of 'nltk.downloader'; this may result in unpredictable behaviour\n",
            "  warn(RuntimeWarning(msg))\n",
            "[nltk_data] Downloading package punkt to /root/nltk_data...\n",
            "[nltk_data]   Package punkt is already up-to-date!\n",
            "Cloning into 'question_generation'...\n",
            "remote: Enumerating objects: 265, done.\u001b[K\n",
            "remote: Counting objects: 100% (6/6), done.\u001b[K\n",
            "remote: Compressing objects: 100% (6/6), done.\u001b[K\n",
            "remote: Total 265 (delta 1), reused 2 (delta 0), pack-reused 259\u001b[K\n",
            "Receiving objects: 100% (265/265), 298.28 KiB | 534.00 KiB/s, done.\n",
            "Resolving deltas: 100% (141/141), done.\n"
          ],
          "name": "stdout"
        }
      ]
    },
    {
      "cell_type": "code",
      "metadata": {
        "colab": {
          "base_uri": "https://localhost:8080/"
        },
        "id": "TD5KOvHhpFj5",
        "outputId": "478ff240-211d-4c04-d724-2a78028bc821"
      },
      "source": [
        "x = question_answer(\"/SQL.pdf\",\"question-generation\")\n"
      ],
      "execution_count": null,
      "outputs": [
        {
          "output_type": "stream",
          "text": [
            "/content/question_generation/question_generation/question_generation/question_generation/question_generation\n"
          ],
          "name": "stdout"
        }
      ]
    },
    {
      "cell_type": "code",
      "metadata": {
        "colab": {
          "base_uri": "https://localhost:8080/"
        },
        "id": "7ScsjUcFsANq",
        "outputId": "35604410-46d2-42d8-8887-638d112e937b"
      },
      "source": [
        "x"
      ],
      "execution_count": null,
      "outputs": [
        {
          "output_type": "execute_result",
          "data": {
            "text/plain": [
              "[{'answer': 'Teamcenter White Paper',\n",
              "  'question': 'Where is the Service Oriented Architecture located?'},\n",
              " {'answer': 'Service Oriented Architecture',\n",
              "  'question': 'What is the name of the page 1 of Teamcenter White Paper?'},\n",
              " {'answer': 'Service Oriented Architecture',\n",
              "  'question': 'What is one of the key software architecture design patterns with which software application functionality is provided as a service to another application?'},\n",
              " {'answer': 'investment and maintenance',\n",
              "  'question': 'What are the benefits of using functionalities as services?'},\n",
              " {'answer': 'SOA',\n",
              "  'question': 'What does D igital product de sign and development use?'},\n",
              " {'answer': 'Teamcenter Business Logic Server',\n",
              "  'question': 'What server does Teamcenter software provide an open, high performance, coarse - grained interface to?'},\n",
              " {'answer': 'Teamcenter',\n",
              "  'question': 'How do you access your existing business processes?'},\n",
              " {'answer': 'create customized, task - specific programs',\n",
              "  'question': 'What does Teamcenter enable you to do to meet your business needs?'},\n",
              " {'answer': 'real - time visibility',\n",
              "  'question': \"What is the biggest challenge for today's corporate IT organizations?\"},\n",
              " {'answer': 'IT leadership',\n",
              "  'question': 'Who is particularly concerned with managing the software application lifecycle and controlling its cost?'},\n",
              " {'answer': 'SOA',\n",
              "  'question': 'What was the technological foundati on for key computing environments?'},\n",
              " {'answer': 'SOAs',\n",
              "  'question': 'What are able to facilitate these improvements with less IT investments?'},\n",
              " {'answer': 'less IT investments',\n",
              "  'question': 'How are SOAs able to facilitate these improvements?'},\n",
              " {'answer': 'SOA governance frameworks',\n",
              "  'question': 'What are companies adopting to capture the maximum befits of SOA while not opening up the enterprise to additional challenges?'},\n",
              " {'answer': 'Enforce, Set up, Deploy and Regiment',\n",
              "  'question': 'What is the simple process for implementing a successful SOA Governance framework?'},\n",
              " {'answer': 'Teamcenter',\n",
              "  'question': 'What is the SOA infrastructure for Siemens PLM Software?'},\n",
              " {'answer': 'Teamcenter',\n",
              "  'question': \"What is industry's most widely used PLM solution?\"},\n",
              " {'answer': 'collaborative product data management',\n",
              "  'question': 'What is cPDM?'},\n",
              " {'answer': 'Teamcenter SOA framework',\n",
              "  'question': 'What enabl es customers to integrate Teamcenter capabilities into existing business processes and create task specific programs?'},\n",
              " {'answer': 'Teamcenter managed information',\n",
              "  'question': 'How can this framework be used to publish in any legacy or new client, portal, or executive dashboard?'},\n",
              " {'answer': 'Teamcenter',\n",
              "  'question': 'What does the lso allow to integrate all external (CAD/other office tools) applications to?'},\n",
              " {'answer': 'Right knowledge at Right Time to Right People',\n",
              "  'question': 'What is the term for Teamcenter?'},\n",
              " {'answer': 'software design and software architecture design patt ern',\n",
              "  'question': 'What is SOA - An Overview Service oriented architecture?'},\n",
              " {'answer': 'service', 'question': 'What is the term for orientation?'},\n",
              " {'answer': 'orientation', 'question': 'What is the term for service?'},\n",
              " {'answer': 'vendor, product or technology',\n",
              "  'question': 'What is independe nt of?'},\n",
              " {'answer': 'self - contained unit of functionality',\n",
              "  'question': 'What is a service?'},\n",
              " {'answer': 'retrieving an online bank statement',\n",
              "  'question': 'What is a self contained unit of functionality?'},\n",
              " {'answer': 'Services',\n",
              "  'question': 'What can be combined by other software applications to provide the complete functionality of a large software ap plication?'},\n",
              " {'answer': 'SOA',\n",
              "  'question': 'What makes it easy for computers connected over a network to cooperate?'},\n",
              " {'answer': 'granularity',\n",
              "  'question': 'What is appropriate to the task at hand?'},\n",
              " {'answer': 'service providers and service consumers',\n",
              "  'question': 'Who are distinct from each other?'},\n",
              " {'answer': 'Standa rds', 'question': 'What is driven compliance?'},\n",
              " {'answer': 'compliance', 'question': 'What does Standa rds drive?'},\n",
              " {'answer': 'Teamcenter',\n",
              "  'question': 'What environment can a wide range of applications access?'},\n",
              " {'answer': 'Teamcenter',\n",
              "  'question': 'What is the engine and repository that connects all of your environment TM s design and product development information in a flexible and loosely coupled manner'},\n",
              " {'answer': 'project teams',\n",
              "  'question': 'What skills sets do you no longer need to worry about?'},\n",
              " {'answer': 'Teamcenter Business Logic Server',\n",
              "  'question': 'Teamcenter TM s SOA functionality is built on a framework consisting of the entire client and service infrastructure that contributes to consistent, reliable'},\n",
              " {'answer': 'low - level communications and data management activities',\n",
              "  'question': 'What does the framework allow application developers to concentrate on?'},\n",
              " {'answer': 'HTTP/S communications protocols',\n",
              "  'question': 'What does Teamcenter TM s SOA use to send XML documents back and forth between the service provider and the service consumer?'},\n",
              " {'answer': 'interoperability',\n",
              "  'question': 'What does open, standards - based messaging e nvironment maintain?'},\n",
              " {'answer': 'technol ogies',\n",
              "  'question': 'What type of ogies does messaging e nvironment allow service providers and service consumers to be implemented in?'},\n",
              " {'answer': 'helps your comp any preserve its investments in existing programs and processes',\n",
              "  'question': 'What does this messaging environment do?'},\n",
              " {'answer': 'standards - based protocols, languages and data formats',\n",
              "  'question': 'What does Teamcenter TM s SOA follow?'},\n",
              " {'answer': 'SOA Framework',\n",
              "  'question': 'What provides the communications and infrastructure functionality that allows application developers to concentrate on creating business solutions rather than dealing with underlying communications/messaging issues?'},\n",
              " {'answer': 'SOA Language Bindings',\n",
              "  'question': 'What provide language - specific functions?'},\n",
              " {'answer': 'NET, C++, and Java',\n",
              "  'question': 'What types of services are used by service consumers to invoke an SOA service?'},\n",
              " {'answer': 'Teamcenter business logic',\n",
              "  'question': 'What does SOA Toolkit allow Teamcenter developers to - generate all of the artifacts necessary to expose?'},\n",
              " {'answer': 'SOA Toolkit',\n",
              "  'question': 'What toolkit provides tools that enable Teamcenter developers to auto - generate all of the artifacts necessary for exposing new Teamcenter business logic'},\n",
              " {'answer': 'Courtesy',\n",
              "  'question': 'What is the name of Siemens PLM Software?'},\n",
              " {'answer': 'Siemens PLM Software',\n",
              "  'question': 'What is the name of the software that is used by what company?'},\n",
              " {'answer': 'Ap plications',\n",
              "  'question': 'What does Platform Application support?'}]"
            ]
          },
          "metadata": {
            "tags": []
          },
          "execution_count": 19
        }
      ]
    },
    {
      "cell_type": "code",
      "metadata": {
        "id": "cvS85-AJItAZ"
      },
      "source": [
        "#from google.colab import files\n",
        "#import json\n",
        "\n",
        "#x = json.dumps (flat_list)\n",
        "#y = x.encode('utf-8')\n",
        "#with open('file_name.json', 'w') as f:\n",
        "#  f.write(str(y))\n",
        "\n",
        "#files.download('file_name.json')"
      ],
      "execution_count": null,
      "outputs": []
    }
  ]
}